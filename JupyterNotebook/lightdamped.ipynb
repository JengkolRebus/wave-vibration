{
 "cells": [
  {
   "cell_type": "code",
   "execution_count": 5,
   "metadata": {},
   "outputs": [],
   "source": [
    "# _jengkolrebus\n",
    "# Curup, Bengkulu\n",
    "# Mei 2020"
   ]
  },
  {
   "cell_type": "code",
   "execution_count": null,
   "metadata": {},
   "outputs": [],
   "source": [
    "import matplotlib\n",
    "import matplotlib.pyplot as plt\n",
    "import numpy as np"
   ]
  },
  {
   "cell_type": "markdown",
   "metadata": {},
   "source": [
    "Menentukan nilai-nilai untuk parameter pada persamaan GHS Teredam Ringan:\n",
    "- t = waktu\n",
    "- A = amplitudo\n",
    "- r = resistansi\n",
    "- m = massa\n",
    "- s = gaya hambat"
   ]
  },
  {
   "cell_type": "code",
   "execution_count": null,
   "metadata": {},
   "outputs": [],
   "source": [
    "t = np.arange(0.0, 15, 0.01)\n",
    "A = 1\n",
    "r = 0.5\n",
    "m = 0.5\n",
    "s = 30.0\n",
    "phi = (1)*np.pi"
   ]
  },
  {
   "cell_type": "code",
   "execution_count": null,
   "metadata": {},
   "outputs": [],
   "source": [
    "p = (-r*t)/(2*m)\n",
    "q = (s/m)-(np.square(r)/(4*np.square(m)))\n",
    "omega = np.sqrt(q)\n",
    "\n",
    "x = A*np.exp(p)*np.sin((omega*t)+phi)"
   ]
  },
  {
   "cell_type": "code",
   "execution_count": null,
   "metadata": {},
   "outputs": [],
   "source": [
    "fig, ax = plt.subplots()\n",
    "ax.plot(t, x)\n",
    "ax.set(xlabel='t', ylabel='x', \n",
    "        title='x=A exp(-rt/2m) sin(omega\\'t + phi)''\\n'\n",
    "        'A=1, r=0.5, s=30, m=0.5, phi=pi()')\n",
    "ax.grid()\n",
    "plt.show()"
   ]
  }
 ],
 "metadata": {
  "language_info": {
   "codemirror_mode": {
    "name": "ipython",
    "version": 3
   },
   "file_extension": ".py",
   "mimetype": "text/x-python",
   "name": "python",
   "nbconvert_exporter": "python",
   "pygments_lexer": "ipython3",
   "version": "3.7.6-final"
  },
  "orig_nbformat": 2,
  "kernelspec": {
   "name": "python37664bit65594f62d2734337a3c22e5d67280aba",
   "display_name": "Python 3.7.6 64-bit"
  }
 },
 "nbformat": 4,
 "nbformat_minor": 2
}